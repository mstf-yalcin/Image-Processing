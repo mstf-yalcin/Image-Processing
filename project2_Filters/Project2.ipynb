{
 "cells": [
  {
   "cell_type": "code",
   "execution_count": 11,
   "id": "1c8caefb",
   "metadata": {},
   "outputs": [],
   "source": [
    "# data set: https://mmcheng.net/msra10k/"
   ]
  },
  {
   "cell_type": "code",
   "execution_count": 1,
   "id": "a9407507",
   "metadata": {},
   "outputs": [],
   "source": [
    "import cv2\n",
    "from skimage.filters import unsharp_mask"
   ]
  },
  {
   "cell_type": "code",
   "execution_count": 2,
   "id": "017126e7",
   "metadata": {},
   "outputs": [],
   "source": [
    "def transparentImg(mask):\n",
    "    tmp = cv2.cvtColor(mask, cv2.COLOR_BGR2GRAY)\n",
    "    _,alpha = cv2.threshold(tmp,0,255,cv2.THRESH_BINARY)\n",
    "    b, g, r = cv2.split(mask)\n",
    "    rgba = [b,g,r, alpha]\n",
    "    dst = cv2.merge(rgba,4)\n",
    "    cv2.imwrite(\"transparent.png\", dst)\n",
    "    return dst"
   ]
  },
  {
   "cell_type": "code",
   "execution_count": 3,
   "id": "05f98340",
   "metadata": {},
   "outputs": [],
   "source": [
    "def mergeImg(backImg,frontImg,x,y):\n",
    "    \n",
    "    x_offset=x\n",
    "    y_offset=y\n",
    "\n",
    "    y1, y2 = y_offset, y_offset + frontImg.shape[0]\n",
    "    x1, x2 = x_offset, x_offset + frontImg.shape[1]\n",
    "\n",
    "    alpha_s = frontImg[:, :, 3] / 255.0\n",
    "    alpha_l = 1.0 - alpha_s\n",
    "\n",
    "    for c in range(0, 3):\n",
    "        backImg[y1:y2, x1:x2, c] = (alpha_s * frontImg[:, :, c] +\n",
    "                              alpha_l * backImg[y1:y2, x1:x2, c])\n",
    "    return backImg"
   ]
  },
  {
   "cell_type": "code",
   "execution_count": null,
   "id": "8ccd4385",
   "metadata": {},
   "outputs": [],
   "source": []
  },
  {
   "cell_type": "code",
   "execution_count": null,
   "id": "d2872419",
   "metadata": {},
   "outputs": [],
   "source": []
  },
  {
   "cell_type": "code",
   "execution_count": 14,
   "id": "fb6593fa",
   "metadata": {},
   "outputs": [],
   "source": [
    "mask=cv2.imread(\"img/77.png\")\n",
    "img=cv2.imread(\"img/77.jpg\")"
   ]
  },
  {
   "cell_type": "code",
   "execution_count": 15,
   "id": "fa0cec90",
   "metadata": {},
   "outputs": [
    {
     "data": {
      "text/plain": [
       "-1"
      ]
     },
     "execution_count": 15,
     "metadata": {},
     "output_type": "execute_result"
    }
   ],
   "source": [
    "cv2.imshow(\"mask\",mask)\n",
    "cv2.waitKey()\n",
    "cv2.imshow(\"orj\",img)\n",
    "cv2.waitKey()"
   ]
  },
  {
   "cell_type": "markdown",
   "id": "d221e18b",
   "metadata": {},
   "source": [
    "# subtract"
   ]
  },
  {
   "cell_type": "code",
   "execution_count": 16,
   "id": "290d2507",
   "metadata": {},
   "outputs": [
    {
     "data": {
      "text/plain": [
       "True"
      ]
     },
     "execution_count": 16,
     "metadata": {},
     "output_type": "execute_result"
    }
   ],
   "source": [
    "substract=cv2.subtract(img,img)\n",
    "cv2.imwrite(\"mask.png\", substract)"
   ]
  },
  {
   "cell_type": "code",
   "execution_count": 17,
   "id": "d90a7987",
   "metadata": {},
   "outputs": [
    {
     "data": {
      "text/plain": [
       "-1"
      ]
     },
     "execution_count": 17,
     "metadata": {},
     "output_type": "execute_result"
    }
   ],
   "source": [
    "\n",
    "backImg = cv2.imread(\"back.jpg\")\n",
    "tImg= transparentImg(substract)\n",
    "#tImg = cv2.imread(\"transparent.png\", -1)\n",
    "\n",
    "\n",
    "result=mergeImg(backImg,tImg,0,200)\n",
    "\n",
    "\n",
    "cv2.imshow(\"Result Merge\",result)\n",
    "cv2.waitKey()"
   ]
  },
  {
   "cell_type": "code",
   "execution_count": null,
   "id": "69a57241",
   "metadata": {},
   "outputs": [],
   "source": []
  },
  {
   "cell_type": "markdown",
   "id": "94b783ec",
   "metadata": {},
   "source": [
    "#  GaussianBlur"
   ]
  },
  {
   "cell_type": "code",
   "execution_count": 18,
   "id": "94c0af3a",
   "metadata": {},
   "outputs": [
    {
     "data": {
      "text/plain": [
       "-1"
      ]
     },
     "execution_count": 18,
     "metadata": {},
     "output_type": "execute_result"
    }
   ],
   "source": [
    "gaussianBlur = cv2.GaussianBlur(result,(9,9),cv2.BORDER_DEFAULT)\n",
    "cv2.imshow(\"Gaussian Smoothing\",gaussianBlur)\n",
    "cv2.waitKey()"
   ]
  },
  {
   "cell_type": "code",
   "execution_count": null,
   "id": "46e3042c",
   "metadata": {},
   "outputs": [],
   "source": []
  },
  {
   "cell_type": "markdown",
   "id": "b1a4fba1",
   "metadata": {},
   "source": [
    "# Unsharp mask"
   ]
  },
  {
   "cell_type": "code",
   "execution_count": 15,
   "id": "6106db30",
   "metadata": {},
   "outputs": [
    {
     "data": {
      "text/plain": [
       "-1"
      ]
     },
     "execution_count": 15,
     "metadata": {},
     "output_type": "execute_result"
    }
   ],
   "source": [
    "unsharp_image = unsharp_mask(result,radius=3,amount=2)\n",
    "cv2.imshow(\"unsharp_image\",unsharp_image)\n",
    "cv2.waitKey()"
   ]
  },
  {
   "cell_type": "code",
   "execution_count": 19,
   "id": "cf3c71ee",
   "metadata": {},
   "outputs": [
    {
     "data": {
      "text/plain": [
       "-1"
      ]
     },
     "execution_count": 19,
     "metadata": {},
     "output_type": "execute_result"
    }
   ],
   "source": [
    "unsharp_image = cv2.addWeighted(result, 2.0, gaussianBlur, -1.0, 0)\n",
    "cv2.imshow(\"unsharp_image\",unsharp_image)\n",
    "cv2.waitKey()"
   ]
  },
  {
   "cell_type": "code",
   "execution_count": null,
   "id": "853e02ae",
   "metadata": {},
   "outputs": [],
   "source": []
  }
 ],
 "metadata": {
  "kernelspec": {
   "display_name": "Python 3 (ipykernel)",
   "language": "python",
   "name": "python3"
  },
  "language_info": {
   "codemirror_mode": {
    "name": "ipython",
    "version": 3
   },
   "file_extension": ".py",
   "mimetype": "text/x-python",
   "name": "python",
   "nbconvert_exporter": "python",
   "pygments_lexer": "ipython3",
   "version": "3.9.13"
  }
 },
 "nbformat": 4,
 "nbformat_minor": 5
}
