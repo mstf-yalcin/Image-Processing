{
 "cells": [
  {
   "cell_type": "code",
   "execution_count": 2,
   "id": "eec713a1",
   "metadata": {},
   "outputs": [],
   "source": [
    "import cv2\n",
    "import numpy as np"
   ]
  },
  {
   "cell_type": "code",
   "execution_count": 3,
   "id": "7b4e66c9",
   "metadata": {},
   "outputs": [],
   "source": [
    "img= cv2.imread(\"test.jpg\",0)\n"
   ]
  },
  {
   "cell_type": "code",
   "execution_count": 313,
   "id": "70dd510c",
   "metadata": {},
   "outputs": [
    {
     "data": {
      "text/plain": [
       "-1"
      ]
     },
     "execution_count": 313,
     "metadata": {},
     "output_type": "execute_result"
    }
   ],
   "source": [
    "canny=cv2.Canny(img,150,200)\n",
    "\n",
    "cv2.imshow(\"test\",canny)\n",
    "cv2.waitKey()"
   ]
  },
  {
   "cell_type": "code",
   "execution_count": 4,
   "id": "f69f878c",
   "metadata": {},
   "outputs": [],
   "source": [
    "blur=cv2.GaussianBlur(img,(5,5),cv2.BORDER_DEFAULT)\n",
    "resultCanny = cv2.Canny(blur,80,90)"
   ]
  },
  {
   "cell_type": "code",
   "execution_count": 5,
   "id": "a675ff4d",
   "metadata": {},
   "outputs": [
    {
     "data": {
      "text/plain": [
       "-1"
      ]
     },
     "execution_count": 5,
     "metadata": {},
     "output_type": "execute_result"
    }
   ],
   "source": [
    "cv2.imshow(\"blurred_canny\",resultCanny)\n",
    "cv2.waitKey()"
   ]
  },
  {
   "cell_type": "markdown",
   "id": "0be4fdc5",
   "metadata": {},
   "source": [
    "# morphology\n"
   ]
  },
  {
   "cell_type": "code",
   "execution_count": 6,
   "id": "a255baa0",
   "metadata": {},
   "outputs": [],
   "source": [
    "kernel = np.ones((5, 5), np.uint8)"
   ]
  },
  {
   "cell_type": "code",
   "execution_count": 7,
   "id": "41cc6c1d",
   "metadata": {},
   "outputs": [],
   "source": [
    "dilate=cv2.dilate(resultCanny,kernel,iterations=1)\n"
   ]
  },
  {
   "cell_type": "code",
   "execution_count": 8,
   "id": "bedab847",
   "metadata": {},
   "outputs": [
    {
     "data": {
      "text/plain": [
       "-1"
      ]
     },
     "execution_count": 8,
     "metadata": {},
     "output_type": "execute_result"
    }
   ],
   "source": [
    "erode=cv2.erode(dilate,kernel,iterations=1)\n",
    "cv2.imshow(\"erode\",erode)\n",
    "cv2.waitKey()"
   ]
  },
  {
   "cell_type": "code",
   "execution_count": null,
   "id": "8eb7d12f",
   "metadata": {},
   "outputs": [],
   "source": []
  },
  {
   "cell_type": "markdown",
   "id": "5809726f",
   "metadata": {},
   "source": [
    "# Manhanten\n"
   ]
  },
  {
   "cell_type": "code",
   "execution_count": null,
   "id": "b71600f7",
   "metadata": {},
   "outputs": [],
   "source": [
    "from scipy.spatial import distance as dist\n",
    "\n"
   ]
  },
  {
   "cell_type": "code",
   "execution_count": null,
   "id": "fb4d638a",
   "metadata": {},
   "outputs": [],
   "source": [
    "hist_Img_RGB = cv2.calcHist(erode, [0, 1, 2], None, [8, 8, 8],[0, 256, 0, 256, 0, 256])\n",
    "histogram_gray = cv2.calcHist(erode, [0], None, [255], [0,256])\n",
    "normalize_histogram_rgb=cv2.normalize(hist_Img_RGB, hist_Img_RGB).flatten()\n",
    "gray_normalize_histogram_rgb=cv2.normalize(histogram_gray, histogram_gray).flatten()"
   ]
  },
  {
   "cell_type": "code",
   "execution_count": null,
   "id": "641c9387",
   "metadata": {},
   "outputs": [],
   "source": [
    "canny_hist_Img_RGB = cv2.calcHist(resultCanny, [0, 1, 2], None, [8, 8, 8],[0, 256, 0, 256, 0, 256])\n",
    "canny_histogram_gray = cv2.calcHist(resultCanny, [0], None, [255], [0,256])\n",
    "canny_normalize_histogram_rgb=cv2.normalize(canny_hist_Img_RGB, hist_Img_RGB).flatten()\n",
    "gray_canny_normalize_histogram_rgb=cv2.normalize(canny_histogram_gray, canny_histogram_gray).flatten()"
   ]
  },
  {
   "cell_type": "code",
   "execution_count": null,
   "id": "ac059829",
   "metadata": {},
   "outputs": [],
   "source": [
    "test=cv2.imread(\"b.png\")"
   ]
  },
  {
   "cell_type": "code",
   "execution_count": null,
   "id": "b66bdaf1",
   "metadata": {},
   "outputs": [],
   "source": [
    "test_Img_RGB = cv2.calcHist(test, [0, 1, 2], None, [8, 8, 8],[0, 256, 0, 256, 0, 256])\n",
    "test_histogram_gray = cv2.calcHist(test, [0], None, [255], [0,256])\n",
    "test_histogram_rgb=cv2.normalize(test_Img_RGB, hist_Img_RGB).flatten()\n",
    "gray_test_histogram_rgb=cv2.normalize(test_histogram_gray, test_histogram_gray).flatten()"
   ]
  },
  {
   "cell_type": "code",
   "execution_count": null,
   "id": "d9fc5c9d",
   "metadata": {},
   "outputs": [],
   "source": [
    "res=dist.cityblock(normalize_histogram_rgb, test_histogram_rgb)\n",
    "res2=dist.cityblock(canny_normalize_histogram_rgb, test_histogram_rgb)\n",
    "res3=dist.cityblock(gray_normalize_histogram_rgb, gray_test_histogram_rgb)\n",
    "res4=dist.cityblock(gray_canny_normalize_histogram_rgb, gray_test_histogram_rgb)\n",
    "\n",
    "\n",
    " "
   ]
  },
  {
   "cell_type": "code",
   "execution_count": null,
   "id": "2b49a068",
   "metadata": {},
   "outputs": [],
   "source": [
    "print(\"Canny+dilation+erode: \",100-res)\n",
    "print(\"Canny: \",100-res2)\n",
    "print(\"gray: \",100-res3)\n",
    "print(\"gray2: \",100-res4)\n",
    "\n",
    " "
   ]
  }
 ],
 "metadata": {
  "kernelspec": {
   "display_name": "Python 3 (ipykernel)",
   "language": "python",
   "name": "python3"
  },
  "language_info": {
   "codemirror_mode": {
    "name": "ipython",
    "version": 3
   },
   "file_extension": ".py",
   "mimetype": "text/x-python",
   "name": "python",
   "nbconvert_exporter": "python",
   "pygments_lexer": "ipython3",
   "version": "3.9.13"
  }
 },
 "nbformat": 4,
 "nbformat_minor": 5
}
